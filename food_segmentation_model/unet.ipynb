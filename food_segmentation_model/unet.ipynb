{
  "nbformat": 4,
  "nbformat_minor": 0,
  "metadata": {
    "colab": {
      "name": "unet.ipynb",
      "provenance": [],
      "collapsed_sections": [],
      "machine_shape": "hm"
    },
    "kernelspec": {
      "name": "python3",
      "display_name": "Python 3"
    },
    "accelerator": "GPU"
  },
  "cells": [
    {
      "cell_type": "code",
      "metadata": {
        "id": "acFsbVKvmy9U",
        "colab_type": "code",
        "outputId": "62cac646-bd38-40b8-a0c3-83ee7923e936",
        "colab": {
          "base_uri": "https://localhost:8080/",
          "height": 323
        }
      },
      "source": [
        "!pip install gpustat\n",
        "!pip install --upgrade keras\n",
        "!pip install --upgrade keras_preprocessing\n",
        "!gpustat"
      ],
      "execution_count": 0,
      "outputs": [
        {
          "output_type": "stream",
          "text": [
            "Requirement already satisfied: gpustat in /usr/local/lib/python3.6/dist-packages (0.6.0)\n",
            "Requirement already satisfied: blessings>=1.6 in /usr/local/lib/python3.6/dist-packages (from gpustat) (1.7)\n",
            "Requirement already satisfied: six>=1.7 in /usr/local/lib/python3.6/dist-packages (from gpustat) (1.12.0)\n",
            "Requirement already satisfied: nvidia-ml-py3>=7.352.0 in /usr/local/lib/python3.6/dist-packages (from gpustat) (7.352.0)\n",
            "Requirement already satisfied: psutil in /usr/local/lib/python3.6/dist-packages (from gpustat) (5.4.8)\n",
            "Requirement already up-to-date: keras in /usr/local/lib/python3.6/dist-packages (2.3.1)\n",
            "Requirement already satisfied, skipping upgrade: pyyaml in /usr/local/lib/python3.6/dist-packages (from keras) (3.13)\n",
            "Requirement already satisfied, skipping upgrade: h5py in /usr/local/lib/python3.6/dist-packages (from keras) (2.8.0)\n",
            "Requirement already satisfied, skipping upgrade: numpy>=1.9.1 in /usr/local/lib/python3.6/dist-packages (from keras) (1.17.4)\n",
            "Requirement already satisfied, skipping upgrade: six>=1.9.0 in /usr/local/lib/python3.6/dist-packages (from keras) (1.12.0)\n",
            "Requirement already satisfied, skipping upgrade: keras-preprocessing>=1.0.5 in /usr/local/lib/python3.6/dist-packages (from keras) (1.1.0)\n",
            "Requirement already satisfied, skipping upgrade: keras-applications>=1.0.6 in /usr/local/lib/python3.6/dist-packages (from keras) (1.0.8)\n",
            "Requirement already satisfied, skipping upgrade: scipy>=0.14 in /usr/local/lib/python3.6/dist-packages (from keras) (1.3.2)\n",
            "Requirement already up-to-date: keras_preprocessing in /usr/local/lib/python3.6/dist-packages (1.1.0)\n",
            "Requirement already satisfied, skipping upgrade: six>=1.9.0 in /usr/local/lib/python3.6/dist-packages (from keras_preprocessing) (1.12.0)\n",
            "Requirement already satisfied, skipping upgrade: numpy>=1.9.1 in /usr/local/lib/python3.6/dist-packages (from keras_preprocessing) (1.17.4)\n",
            "\u001b[1m\u001b[37mce4fa6a3e2a2           \u001b[m  Fri Nov 22 18:22:41 2019  \u001b[1m\u001b[30m418.67\u001b[m\n",
            "\u001b[36m[0]\u001b[m \u001b[34mTesla P100-PCIE-16GB\u001b[m |\u001b[31m 37'C\u001b[m, \u001b[32m  0 %\u001b[m | \u001b[36m\u001b[1m\u001b[33m    0\u001b[m / \u001b[33m16280\u001b[m MB |\n"
          ],
          "name": "stdout"
        }
      ]
    },
    {
      "cell_type": "code",
      "metadata": {
        "id": "u4JKuUBEpHfx",
        "colab_type": "code",
        "outputId": "90bf075c-59e8-4991-c562-9058a235fa12",
        "colab": {
          "base_uri": "https://localhost:8080/",
          "height": 51
        }
      },
      "source": [
        "import numpy as np\n",
        "import matplotlib.pyplot as plt\n",
        "from google.colab import drive\n",
        "\n",
        "import keras\n",
        "from keras.models import *\n",
        "from keras.layers import *\n",
        "from keras.optimizers import *\n",
        "from keras.preprocessing.image import ImageDataGenerator\n",
        "\n",
        "import tensorflow as tf\n",
        "\n",
        "drive.mount('/content/gdrive')\n",
        "keras.backend.tensorflow_backend._get_available_gpus()"
      ],
      "execution_count": 0,
      "outputs": [
        {
          "output_type": "stream",
          "text": [
            "Drive already mounted at /content/gdrive; to attempt to forcibly remount, call drive.mount(\"/content/gdrive\", force_remount=True).\n"
          ],
          "name": "stdout"
        },
        {
          "output_type": "execute_result",
          "data": {
            "text/plain": [
              "['/job:localhost/replica:0/task:0/device:GPU:0']"
            ]
          },
          "metadata": {
            "tags": []
          },
          "execution_count": 4
        }
      ]
    },
    {
      "cell_type": "code",
      "metadata": {
        "id": "ZvfslWBvrDPo",
        "colab_type": "code",
        "colab": {}
      },
      "source": [
        "data_dir = '/content/gdrive/My Drive/data_source/food_segmentation/unet/training_data/train/'\n",
        "label_dir = '/content/gdrive/My Drive/data_source/food_segmentation/unet/training_label/train/'"
      ],
      "execution_count": 0,
      "outputs": []
    },
    {
      "cell_type": "code",
      "metadata": {
        "id": "Jbq8liaOqpwA",
        "colab_type": "code",
        "outputId": "5cdaa540-8ac7-4354-fa60-a16634053bdf",
        "colab": {
          "base_uri": "https://localhost:8080/",
          "height": 85
        }
      },
      "source": [
        "BATCH_SIZE = 4\n",
        "GENERATE_SEED = np.random.randint(0, 1024)\n",
        "VALIDATION_SPLIT = 0.2\n",
        "\n",
        "maskgen_args = dict(\n",
        "    rotation_range=180,\n",
        "    width_shift_range=0.2,\n",
        "    height_shift_range=0.2,\n",
        "    zoom_range=0.2,\n",
        "    horizontal_flip=True,\n",
        "    vertical_flip=True,\n",
        "    validation_split=VALIDATION_SPLIT\n",
        ")\n",
        "\n",
        "imagegen_args = dict(\n",
        "    samplewise_center=True,\n",
        "    samplewise_std_normalization=True,\n",
        "    **maskgen_args\n",
        ")\n",
        "\n",
        "image_datagen = ImageDataGenerator(**imagegen_args)\n",
        "mask_datagen = ImageDataGenerator(**maskgen_args)\n",
        "\n",
        "training_data_generator = zip(\n",
        "    image_datagen.flow_from_directory(\n",
        "        data_dir,\n",
        "        target_size=(512, 512),\n",
        "        color_mode='rgb',\n",
        "        batch_size=BATCH_SIZE,\n",
        "        class_mode=None,\n",
        "        save_format='jpeg',\n",
        "        seed=GENERATE_SEED,\n",
        "        subset='training'\n",
        "    ),\n",
        "    mask_datagen.flow_from_directory(\n",
        "        label_dir,\n",
        "        target_size=(512, 512),\n",
        "        color_mode='grayscale',\n",
        "        batch_size=BATCH_SIZE,\n",
        "        class_mode=None,\n",
        "        save_format='png',\n",
        "        seed=GENERATE_SEED,\n",
        "        subset='training'\n",
        "    )\n",
        ")\n",
        "\n",
        "validation_data_generator = zip(\n",
        "    image_datagen.flow_from_directory(\n",
        "        data_dir,\n",
        "        target_size=(512, 512),\n",
        "        color_mode='rgb',\n",
        "        batch_size=BATCH_SIZE,\n",
        "        class_mode=None,\n",
        "        save_format='jpeg',\n",
        "        seed=GENERATE_SEED,\n",
        "        subset='validation'\n",
        "    ),\n",
        "    mask_datagen.flow_from_directory(\n",
        "        label_dir,\n",
        "        target_size=(512, 512),\n",
        "        color_mode='grayscale',\n",
        "        batch_size=BATCH_SIZE,\n",
        "        class_mode=None,\n",
        "        save_format='png',\n",
        "        seed=GENERATE_SEED,\n",
        "        subset='validation'\n",
        "    )\n",
        ")"
      ],
      "execution_count": 0,
      "outputs": [
        {
          "output_type": "stream",
          "text": [
            "Found 9672 images belonging to 1 classes.\n",
            "Found 9672 images belonging to 1 classes.\n",
            "Found 2418 images belonging to 1 classes.\n",
            "Found 2418 images belonging to 1 classes.\n"
          ],
          "name": "stdout"
        }
      ]
    },
    {
      "cell_type": "code",
      "metadata": {
        "id": "7mS-nl5ApR2d",
        "colab_type": "code",
        "colab": {}
      },
      "source": [
        "# Reference: https://github.com/zhixuhao/unet/blob/master/model.py\n",
        "\n",
        "def unet(input_size=(512,512,3)):\n",
        "    inputs = Input(input_size)\n",
        "    noisy_inputs = GaussianNoise(stddev=0.05)(inputs)\n",
        "    conv1 = Conv2D(64, 3, activation = 'relu', padding = 'same', kernel_initializer = 'he_normal')(noisy_inputs)\n",
        "    conv1 = Conv2D(64, 3, activation = 'relu', padding = 'same', kernel_initializer = 'he_normal')(conv1)\n",
        "    pool1 = MaxPooling2D(pool_size=(2, 2))(conv1)\n",
        "    conv2 = Conv2D(128, 3, activation = 'relu', padding = 'same', kernel_initializer = 'he_normal')(pool1)\n",
        "    conv2 = Conv2D(128, 3, activation = 'relu', padding = 'same', kernel_initializer = 'he_normal')(conv2)\n",
        "    pool2 = MaxPooling2D(pool_size=(2, 2))(conv2)\n",
        "    conv3 = Conv2D(256, 3, activation = 'relu', padding = 'same', kernel_initializer = 'he_normal')(pool2)\n",
        "    conv3 = Conv2D(256, 3, activation = 'relu', padding = 'same', kernel_initializer = 'he_normal')(conv3)\n",
        "    pool3 = MaxPooling2D(pool_size=(2, 2))(conv3)\n",
        "    conv4 = Conv2D(512, 3, activation = 'relu', padding = 'same', kernel_initializer = 'he_normal')(pool3)\n",
        "    conv4 = Conv2D(512, 3, activation = 'relu', padding = 'same', kernel_initializer = 'he_normal')(conv4)\n",
        "    drop4 = Dropout(0.5)(conv4)\n",
        "    pool4 = MaxPooling2D(pool_size=(2, 2))(drop4)\n",
        "\n",
        "    conv5 = Conv2D(1024, 3, activation = 'relu', padding = 'same', kernel_initializer = 'he_normal')(pool4)\n",
        "    conv5 = Conv2D(1024, 3, activation = 'relu', padding = 'same', kernel_initializer = 'he_normal')(conv5)\n",
        "    drop5 = Dropout(0.5)(conv5)\n",
        "\n",
        "    up6 = Conv2D(512, 2, activation = 'relu', padding = 'same', kernel_initializer = 'he_normal')(UpSampling2D(size = (2,2))(drop5))\n",
        "    merge6 = concatenate([drop4,up6], axis = 3)\n",
        "    conv6 = Conv2D(512, 3, activation = 'relu', padding = 'same', kernel_initializer = 'he_normal')(merge6)\n",
        "    conv6 = Conv2D(512, 3, activation = 'relu', padding = 'same', kernel_initializer = 'he_normal')(conv6)\n",
        "\n",
        "    up7 = Conv2D(256, 2, activation = 'relu', padding = 'same', kernel_initializer = 'he_normal')(UpSampling2D(size = (2,2))(conv6))\n",
        "    merge7 = concatenate([conv3,up7], axis = 3)\n",
        "    conv7 = Conv2D(256, 3, activation = 'relu', padding = 'same', kernel_initializer = 'he_normal')(merge7)\n",
        "    conv7 = Conv2D(256, 3, activation = 'relu', padding = 'same', kernel_initializer = 'he_normal')(conv7)\n",
        "\n",
        "    up8 = Conv2D(128, 2, activation = 'relu', padding = 'same', kernel_initializer = 'he_normal')(UpSampling2D(size = (2,2))(conv7))\n",
        "    merge8 = concatenate([conv2,up8], axis = 3)\n",
        "    conv8 = Conv2D(128, 3, activation = 'relu', padding = 'same', kernel_initializer = 'he_normal')(merge8)\n",
        "    conv8 = Conv2D(128, 3, activation = 'relu', padding = 'same', kernel_initializer = 'he_normal')(conv8)\n",
        "\n",
        "    up9 = Conv2D(64, 2, activation = 'relu', padding = 'same', kernel_initializer = 'he_normal')(UpSampling2D(size = (2,2))(conv8))\n",
        "    merge9 = concatenate([conv1,up9], axis = 3)\n",
        "    conv9 = Conv2D(64, 3, activation = 'relu', padding = 'same', kernel_initializer = 'he_normal')(merge9)\n",
        "    conv9 = Conv2D(64, 3, activation = 'relu', padding = 'same', kernel_initializer = 'he_normal')(conv9)\n",
        "    conv9 = Conv2D(2, 3, activation = 'relu', padding = 'same', kernel_initializer = 'he_normal')(conv9)\n",
        "    conv10 = Conv2D(1, 1, activation = 'sigmoid')(conv9)\n",
        "\n",
        "    model = Model(inputs=inputs, outputs=conv10)\n",
        "    return model"
      ],
      "execution_count": 0,
      "outputs": []
    },
    {
      "cell_type": "code",
      "metadata": {
        "id": "HDoAH5jXqeWj",
        "colab_type": "code",
        "colab": {}
      },
      "source": [
        "unet_model = unet()\n",
        "unet_model.compile(\n",
        "    optimizer=Adam(learning_rate=1e-4),\n",
        "    loss=keras.losses.binary_crossentropy,\n",
        "    metrics=['accuracy']\n",
        ")"
      ],
      "execution_count": 0,
      "outputs": []
    },
    {
      "cell_type": "code",
      "metadata": {
        "id": "LTRZWinTqliJ",
        "colab_type": "code",
        "outputId": "639078cc-9039-4b10-8da2-128948121722",
        "colab": {
          "base_uri": "https://localhost:8080/",
          "height": 238
        }
      },
      "source": [
        "unet_model.fit_generator(\n",
        "    training_data_generator, \n",
        "    validation_data=validation_data_generator,\n",
        "    epochs=6,\n",
        "    steps_per_epoch=4096,\n",
        "    validation_steps=1024,\n",
        "    validation_freq=1,\n",
        "    callbacks=[keras.callbacks.ModelCheckpoint(\"/content/gdrive/My Drive/data_source/food_segmentation/unet/model_checkpoint_{epoch:02d}.hdf5\")]\n",
        ")"
      ],
      "execution_count": 15,
      "outputs": [
        {
          "output_type": "stream",
          "text": [
            "Epoch 1/6\n",
            "4096/4096 [==============================] - 2799s 683ms/step - loss: 0.4909 - accuracy: 0.7704 - val_loss: 0.3262 - val_accuracy: 0.8105\n",
            "Epoch 2/6\n",
            "4096/4096 [==============================] - 2800s 684ms/step - loss: 0.4142 - accuracy: 0.8312 - val_loss: 0.7101 - val_accuracy: 0.8463\n",
            "Epoch 3/6\n",
            "4096/4096 [==============================] - 2797s 683ms/step - loss: 0.3814 - accuracy: 0.8434 - val_loss: 0.3320 - val_accuracy: 0.8552\n",
            "Epoch 4/6\n",
            "4096/4096 [==============================] - 2807s 685ms/step - loss: 0.3586 - accuracy: 0.8512 - val_loss: 0.2264 - val_accuracy: 0.8601\n",
            "Epoch 5/6\n",
            "4096/4096 [==============================] - 2784s 680ms/step - loss: 0.3436 - accuracy: 0.8563 - val_loss: 0.2851 - val_accuracy: 0.8598\n",
            "Epoch 6/6\n",
            "4096/4096 [==============================] - 2772s 677ms/step - loss: 0.3343 - accuracy: 0.8594 - val_loss: 0.1801 - val_accuracy: 0.8646\n"
          ],
          "name": "stdout"
        },
        {
          "output_type": "execute_result",
          "data": {
            "text/plain": [
              "<keras.callbacks.callbacks.History at 0x7f23e708e9e8>"
            ]
          },
          "metadata": {
            "tags": []
          },
          "execution_count": 15
        }
      ]
    },
    {
      "cell_type": "code",
      "metadata": {
        "id": "SHHs92lHmQtF",
        "colab_type": "code",
        "colab": {}
      },
      "source": [
        ""
      ],
      "execution_count": 0,
      "outputs": []
    }
  ]
}