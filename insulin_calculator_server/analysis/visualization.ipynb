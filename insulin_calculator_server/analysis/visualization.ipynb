{
 "cells": [
  {
   "cell_type": "code",
   "metadata": {},
   "outputs": [],
   "source": [
    "import numpy as np\n",
    "import matplotlib.pyplot as plt\n",
    "import json\n",
    "from PIL import Image\n",
    "import keras\n",
    "import os\n",
    "import cv2"
   ]
  },
  {
   "cell_type": "code",
   "metadata": {},
   "outputs": [],
   "source": [
    "root_dir = '/Volumes/tsanchen/carbs_estimate/server_archive/2019_12_22/recognition_session_data/2019_12/22/22_30_41_88B4443B-EBA9-49CD-96DC-6C4431DD9D51'\n",
    "image_path =  os.path.join(root_dir, 'image.jpg')\n",
    "peripheral_path = os.path.join(root_dir, 'peripheral.json')\n",
    "\n",
    "model_path = '/Users/Frost/Desktop/hinge_unet.hdf5'\n",
    "\n",
    "UNIFIED_IMAGE_SIZE = (512, 512)\n",
    "\n",
    "def center_crop(array):\n",
    "    assert len(array.shape) >= 2\n",
    "    if array.shape[0] == array.shape[1]:\n",
    "        return array\n",
    "    shape_difference = abs(array.shape[0] - array.shape[1])\n",
    "    offset = shape_difference // 2\n",
    "    if array.shape[0] > array.shape[1]:\n",
    "        return array[offset:array.shape[1] + offset, :]\n",
    "    else:\n",
    "        return array[:, offset:array.shape[0] + offset]\n",
    "\n",
    "def center_normalize(image):\n",
    "    mean = np.mean(cv2.resize(image, (512, 512)), axis=(0, 1))\n",
    "    std = np.std(cv2.resize(image, (512, 512)), axis=(0, 1))\n",
    "    return (image - mean) / std"
   ]
  },
  {
   "cell_type": "code",
   "metadata": {},
   "outputs": [],
   "source": [
    "keras.losses.lovasz_hinge = keras.losses.binary_crossentropy\n",
    "model = keras.models.load_model(model_path)"
   ]
  },
  {
   "cell_type": "code",
   "metadata": {},
   "outputs": [],
   "source": [
    "with open(peripheral_path) as in_file:\n",
    "    json_content = json.loads(in_file.read())\n",
    "    depth_map = np.array(json_content['depth_data'])\n",
    "image = np.array(Image.open(image_path))\n",
    "plt.imshow(image)"
   ]
  },
  {
   "cell_type": "code",
   "metadata": {},
   "outputs": [],
   "source": [
    "plt.imshow(depth_map)\n",
    "plt.colorbar()"
   ]
  },
  {
   "cell_type": "code",
   "metadata": {},
   "outputs": [],
   "source": [
    "mask = np.reshape(\n",
    "    model.predict(\n",
    "        np.reshape(\n",
    "            center_normalize(\n",
    "                cv2.resize(\n",
    "                    center_crop(\n",
    "                        image\n",
    "                    ), \n",
    "                    UNIFIED_IMAGE_SIZE\n",
    "                )\n",
    "            ), \n",
    "            (1, *UNIFIED_IMAGE_SIZE, 3)\n",
    "        )\n",
    "    ), UNIFIED_IMAGE_SIZE\n",
    ")\n",
    "mask[mask < 0] = 0\n",
    "mask[mask > 0] = 1\n",
    "plt.imshow(cv2.resize(center_crop(image), (512, 512)))\n",
    "plt.imshow(mask, alpha=0.5)\n",
    "plt.colorbar()"
   ]
  },
  {
   "cell_type": "code",
   "metadata": {},
   "outputs": [],
   "source": [
    "mask = np.reshape(\n",
    "    old_model.predict(\n",
    "        np.reshape(\n",
    "            center_normalize(\n",
    "                cv2.resize(\n",
    "                    center_crop(\n",
    "                        image\n",
    "                    ), \n",
    "                    UNIFIED_IMAGE_SIZE\n",
    "                )\n",
    "            ), \n",
    "            (1, *UNIFIED_IMAGE_SIZE, 3)\n",
    "        )\n",
    "    ), UNIFIED_IMAGE_SIZE\n",
    ")\n",
    "mask[mask < 0.5] = 0\n",
    "mask[mask > 0.5] = 1\n",
    "plt.imshow(cv2.resize(center_crop(image), (512, 512)))\n",
    "plt.imshow(mask, alpha=0.5)\n",
    "plt.colorbar()"
   ]
  },
  {
   "cell_type": "code",
   "metadata": {},
   "outputs": [],
   "source": []
  }
 ],
 "metadata": {
  "kernelspec": {
   "display_name": "Python 3",
   "language": "python",
   "name": "python3"
  },
  "language_info": {
   "codemirror_mode": {
    "name": "ipython",
    "version": 3
   },
   "file_extension": ".py",
   "mimetype": "text/x-python",
   "name": "python",
   "nbconvert_exporter": "python",
   "pygments_lexer": "ipython3",
   "version": "3.6.1"
  }
 },
 "nbformat": 4,
 "nbformat_minor": 2
}