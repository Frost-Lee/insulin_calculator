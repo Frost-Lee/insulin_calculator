{
 "cells": [
  {
   "cell_type": "code",
   "execution_count": null,
   "metadata": {},
   "outputs": [],
   "source": [
    "import numpy as np\n",
    "import matplotlib.pyplot as plt\n",
    "import json\n",
    "from PIL import Image\n",
    "import keras\n",
    "import os\n",
    "import cv2"
   ]
  },
  {
   "cell_type": "code",
   "execution_count": null,
   "metadata": {},
   "outputs": [],
   "source": [
    "root_dir = '/Users/Frost/Desktop/insulin_calculator_data/recognition_session_data/2020_1/8/19_28_31_4F40CE59-DD67-4A88-B572-A64497592EAE'\n",
    "image_path =  os.path.join(root_dir, 'image.jpg')\n",
    "# image_path = '/Volumes/tsanchen/carbs_estimate/error_tolerance_test/test_3/donut/roll/case_17/11_47_58_6B735A73-D166-4FB3-95BF-F17BBD4A1E93/image.jpg'\n",
    "peripheral_path = os.path.join(root_dir, 'peripheral.json')\n",
    "\n",
    "model_path = '/Users/Frost/Desktop/lovasz_inceptionresnetv2_unet.hdf5'\n",
    "\n",
    "UNIFIED_IMAGE_SIZE = (512, 512)\n",
    "\n",
    "def center_crop(array):\n",
    "    assert len(array.shape) >= 2\n",
    "    if array.shape[0] == array.shape[1]:\n",
    "        return array\n",
    "    shape_difference = abs(array.shape[0] - array.shape[1])\n",
    "    offset = shape_difference // 2\n",
    "    if array.shape[0] > array.shape[1]:\n",
    "        return array[offset:array.shape[1] + offset, :]\n",
    "    else:\n",
    "        return array[:, offset:array.shape[0] + offset]\n",
    "\n",
    "def center_normalize(image):\n",
    "    mean = np.mean(cv2.resize(image, (512, 512)), axis=(0, 1))\n",
    "    std = np.std(cv2.resize(image, (512, 512)), axis=(0, 1))\n",
    "    return (image - mean) / std"
   ]
  },
  {
   "cell_type": "code",
   "execution_count": null,
   "metadata": {},
   "outputs": [],
   "source": [
    "keras.losses.lovasz_hinge = keras.losses.binary_crossentropy\n",
    "model = keras.models.load_model(model_path)"
   ]
  },
  {
   "cell_type": "code",
   "execution_count": null,
   "metadata": {},
   "outputs": [],
   "source": [
    "with open(peripheral_path) as in_file:\n",
    "    json_content = json.loads(in_file.read())\n",
    "    depth_map = np.array(json_content['depth_data'])\n",
    "image = np.array(Image.open(image_path))\n",
    "plt.imshow(image)"
   ]
  },
  {
   "cell_type": "code",
   "execution_count": null,
   "metadata": {},
   "outputs": [],
   "source": [
    "plt.imshow(depth_map)\n",
    "plt.colorbar()"
   ]
  },
  {
   "cell_type": "code",
   "execution_count": null,
   "metadata": {},
   "outputs": [],
   "source": [
    "mask = np.reshape(\n",
    "    model.predict(\n",
    "        np.reshape(\n",
    "            center_normalize(\n",
    "                cv2.resize(\n",
    "                    center_crop(\n",
    "                        image\n",
    "                    ), \n",
    "                    UNIFIED_IMAGE_SIZE\n",
    "                )\n",
    "            ), \n",
    "            (1, *UNIFIED_IMAGE_SIZE, 3)\n",
    "        )\n",
    "    ), UNIFIED_IMAGE_SIZE\n",
    ")\n",
    "mask[mask < 0] = 0\n",
    "mask[mask > 0] = 1\n",
    "plt.imshow(cv2.resize(center_crop(image), (512, 512)))\n",
    "plt.imshow(mask, alpha=0.5)\n",
    "plt.colorbar()"
   ]
  },
  {
   "cell_type": "code",
   "execution_count": null,
   "metadata": {},
   "outputs": [],
   "source": []
  }
 ],
 "metadata": {
  "kernelspec": {
   "display_name": "Python 3",
   "language": "python",
   "name": "python3"
  },
  "language_info": {
   "codemirror_mode": {
    "name": "ipython",
    "version": 3
   },
   "file_extension": ".py",
   "mimetype": "text/x-python",
   "name": "python",
   "nbconvert_exporter": "python",
   "pygments_lexer": "ipython3",
   "version": "3.6.1-final"
  }
 },
 "nbformat": 4,
 "nbformat_minor": 2
}